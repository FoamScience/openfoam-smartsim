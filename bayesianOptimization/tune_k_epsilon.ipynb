{
 "cells": [
  {
   "cell_type": "code",
   "execution_count": 1,
   "metadata": {},
   "outputs": [],
   "source": [
    "from smartsim import Experiment\n",
    "from smartredis import Client\n",
    "import skopt\n",
    "import skopt.plots\n",
    "import numpy as np"
   ]
  },
  {
   "cell_type": "code",
   "execution_count": 2,
   "metadata": {},
   "outputs": [],
   "source": [
    "exp = Experiment(\"Tune_K-Epsilon\", launcher=\"local\")"
   ]
  },
  {
   "cell_type": "code",
   "execution_count": 24,
   "metadata": {},
   "outputs": [],
   "source": [
    "def evaluate_function(values):\n",
    "\n",
    "    param_names = [\n",
    "        'Cmu',\n",
    "        'C1',\n",
    "        'C2',\n",
    "        'sigmak',\n",
    "        'sigmaEps'\n",
    "    ]\n",
    "\n",
    "    assert len(param_names) == len(values)\n",
    "\n",
    "    params = { param_names[i]:[value] for i, value in enumerate(values) }\n",
    "    print(params)\n",
    "\n",
    "    rs = exp.create_run_settings(\n",
    "        \"/home/users/shao/dev/OpenFOAM/openfoam/platforms/linux64CrayDPInt32Opt/bin/simpleFoam\",\n",
    "    )\n",
    "    ens = exp.create_ensemble(\n",
    "        \"evaluation\",\n",
    "        params=params,\n",
    "        perm_strategy='step',\n",
    "        run_settings=rs\n",
    "    )\n",
    "\n",
    "    for model in ens.models:\n",
    "        model.attach_generator_files(\n",
    "            to_configure=\"pitzDaily\",\n",
    "        )\n",
    "\n",
    "    exp.generate(ens, overwrite=True)\n",
    "    exp.start(ens, block=True)\n",
    "\n",
    "    outputs = []\n",
    "    true_p = 1.9\n",
    "    for model in ens.models:\n",
    "        fname = f'{model.path}/postProcessing/avgInlets/0/surfaceFieldValue.dat'\n",
    "        data = np.loadtxt(fname, skiprows=5)\n",
    "        outputs.append( (true_p+data[-1,1])**2 )\n",
    "\n",
    "    if len(outputs)==1:\n",
    "        return outputs[0]\n",
    "    else:\n",
    "        return outputs"
   ]
  },
  {
   "cell_type": "code",
   "execution_count": 25,
   "metadata": {},
   "outputs": [],
   "source": [
    "default_values = [0.09, 1.44, 1.92, 1.0, 1.3]\n",
    "bound_width = 0.5\n",
    "bounds = [ (val*0.75, val*1.25) for val in default_values ]"
   ]
  },
  {
   "cell_type": "code",
   "execution_count": 26,
   "metadata": {},
   "outputs": [
    {
     "name": "stdout",
     "output_type": "stream",
     "text": [
      "{'Cmu': [0.08989486499126922], 'C1': [1.6688436776039302], 'C2': [2.02762741889018], 'sigmak': [1.1356799594312006], 'sigmaEps': [1.534435351395497]}\n",
      "00:39:54 hotlum-login SmartSim[115200] INFO Working in previously created experiment\n",
      "00:39:55 hotlum-login SmartSim[115200] WARNING Unused tag label=32 on line(s): [12]\n",
      "00:39:55 hotlum-login SmartSim[115200] WARNING Unused tag label=32 on line(s): [12]\n",
      "00:39:55 hotlum-login SmartSim[115200] WARNING Unused tag label=32 on line(s): [12]\n",
      "00:39:55 hotlum-login SmartSim[115200] WARNING Unused tag label=32 on line(s): [12]\n",
      "00:39:55 hotlum-login SmartSim[115200] WARNING Unused tag label=32 on line(s): [12]\n",
      "00:40:00 hotlum-login SmartSim[115200] INFO evaluation_0(175332): Running\n",
      "00:40:03 hotlum-login SmartSim[115200] INFO evaluation_0(175332): Completed\n",
      "{'Cmu': [0.0742786634522743], 'C1': [1.2229335064988431], 'C2': [2.2225564166889624], 'sigmak': [0.8294076765922183], 'sigmaEps': [1.0504895879520568]}\n",
      "00:40:05 hotlum-login SmartSim[115200] INFO Working in previously created experiment\n",
      "00:40:05 hotlum-login SmartSim[115200] WARNING Unused tag label=32 on line(s): [12]\n",
      "00:40:06 hotlum-login SmartSim[115200] WARNING Unused tag label=32 on line(s): [12]\n",
      "00:40:06 hotlum-login SmartSim[115200] WARNING Unused tag label=32 on line(s): [12]\n",
      "00:40:06 hotlum-login SmartSim[115200] WARNING Unused tag label=32 on line(s): [12]\n",
      "00:40:06 hotlum-login SmartSim[115200] WARNING Unused tag label=32 on line(s): [12]\n",
      "00:40:11 hotlum-login SmartSim[115200] INFO evaluation_0(175974): Running\n",
      "00:40:14 hotlum-login SmartSim[115200] INFO evaluation_0(175974): Completed\n",
      "{'Cmu': [0.0680808389003931], 'C1': [1.4305200792259969], 'C2': [1.757774811120286], 'sigmak': [1.1513197845602436], 'sigmaEps': [1.0388637581078524]}\n",
      "00:40:16 hotlum-login SmartSim[115200] INFO Working in previously created experiment\n",
      "00:40:16 hotlum-login SmartSim[115200] WARNING Unused tag label=32 on line(s): [12]\n",
      "00:40:16 hotlum-login SmartSim[115200] WARNING Unused tag label=32 on line(s): [12]\n",
      "00:40:16 hotlum-login SmartSim[115200] WARNING Unused tag label=32 on line(s): [12]\n",
      "00:40:17 hotlum-login SmartSim[115200] WARNING Unused tag label=32 on line(s): [12]\n",
      "00:40:17 hotlum-login SmartSim[115200] WARNING Unused tag label=32 on line(s): [12]\n",
      "00:40:22 hotlum-login SmartSim[115200] INFO evaluation_0(176586): Running\n",
      "00:40:25 hotlum-login SmartSim[115200] INFO evaluation_0(176586): Completed\n",
      "{'Cmu': [0.0700197052034642], 'C1': [1.3987171072506404], 'C2': [1.461258157058906], 'sigmak': [0.8953642766276046], 'sigmaEps': [1.1351563881127231]}\n",
      "00:40:27 hotlum-login SmartSim[115200] INFO Working in previously created experiment\n",
      "00:40:27 hotlum-login SmartSim[115200] WARNING Unused tag label=32 on line(s): [12]\n",
      "00:40:27 hotlum-login SmartSim[115200] WARNING Unused tag label=32 on line(s): [12]\n",
      "00:40:27 hotlum-login SmartSim[115200] WARNING Unused tag label=32 on line(s): [12]\n",
      "00:40:27 hotlum-login SmartSim[115200] WARNING Unused tag label=32 on line(s): [12]\n",
      "00:40:27 hotlum-login SmartSim[115200] WARNING Unused tag label=32 on line(s): [12]\n",
      "00:40:33 hotlum-login SmartSim[115200] INFO evaluation_0(177202): Running\n",
      "00:40:38 hotlum-login SmartSim[115200] INFO evaluation_0(177202): Running\n",
      "00:40:43 hotlum-login SmartSim[115200] INFO evaluation_0(177202): Running\n",
      "00:40:48 hotlum-login SmartSim[115200] INFO evaluation_0(177202): Running\n",
      "00:40:53 hotlum-login SmartSim[115200] INFO evaluation_0(177202): Running\n",
      "00:40:58 hotlum-login SmartSim[115200] INFO evaluation_0(177202): Running\n",
      "00:41:00 hotlum-login SmartSim[115200] INFO evaluation_0(177202): Completed\n",
      "{'Cmu': [0.10072290456066152], 'C1': [1.7202428148260303], 'C2': [2.3876537301694682], 'sigmak': [0.8087216948462281], 'sigmaEps': [1.2309585289910123]}\n",
      "00:41:03 hotlum-login SmartSim[115200] INFO Working in previously created experiment\n",
      "00:41:03 hotlum-login SmartSim[115200] WARNING Unused tag label=32 on line(s): [12]\n",
      "00:41:03 hotlum-login SmartSim[115200] WARNING Unused tag label=32 on line(s): [12]\n",
      "00:41:03 hotlum-login SmartSim[115200] WARNING Unused tag label=32 on line(s): [12]\n",
      "00:41:03 hotlum-login SmartSim[115200] WARNING Unused tag label=32 on line(s): [12]\n",
      "00:41:03 hotlum-login SmartSim[115200] WARNING Unused tag label=32 on line(s): [12]\n",
      "00:41:09 hotlum-login SmartSim[115200] INFO evaluation_0(179289): Running\n",
      "00:41:12 hotlum-login SmartSim[115200] INFO evaluation_0(179289): Completed\n",
      "{'Cmu': [0.0675], 'C1': [1.08], 'C2': [1.496504438808651], 'sigmak': [0.8861766965143393], 'sigmaEps': [0.9750000000000001]}\n",
      "00:41:14 hotlum-login SmartSim[115200] INFO Working in previously created experiment\n",
      "00:41:14 hotlum-login SmartSim[115200] WARNING Unused tag label=32 on line(s): [12]\n",
      "00:41:14 hotlum-login SmartSim[115200] WARNING Unused tag label=32 on line(s): [12]\n",
      "00:41:15 hotlum-login SmartSim[115200] WARNING Unused tag label=32 on line(s): [12]\n",
      "00:41:15 hotlum-login SmartSim[115200] WARNING Unused tag label=32 on line(s): [12]\n",
      "00:41:15 hotlum-login SmartSim[115200] WARNING Unused tag label=32 on line(s): [12]\n",
      "00:41:20 hotlum-login SmartSim[115200] INFO evaluation_0(180009): Running\n",
      "00:41:25 hotlum-login SmartSim[115200] INFO evaluation_0(180009): Completed\n",
      "00:41:25 hotlum-login SmartSim[115200] INFO evaluation_0(180009): Completed\n",
      "{'Cmu': [0.07696225939171564], 'C1': [1.3697402664623601], 'C2': [1.9298921136468548], 'sigmak': [0.8412754074918757], 'sigmaEps': [1.13344220019775]}\n",
      "00:41:30 hotlum-login SmartSim[115200] INFO Working in previously created experiment\n",
      "00:41:31 hotlum-login SmartSim[115200] WARNING Unused tag label=32 on line(s): [12]\n",
      "00:41:31 hotlum-login SmartSim[115200] WARNING Unused tag label=32 on line(s): [12]\n",
      "00:41:31 hotlum-login SmartSim[115200] WARNING Unused tag label=32 on line(s): [12]\n",
      "00:41:31 hotlum-login SmartSim[115200] WARNING Unused tag label=32 on line(s): [12]\n",
      "00:41:31 hotlum-login SmartSim[115200] WARNING Unused tag label=32 on line(s): [12]\n",
      "00:41:36 hotlum-login SmartSim[115200] INFO evaluation_0(181750): Running\n",
      "00:41:39 hotlum-login SmartSim[115200] INFO evaluation_0(181750): Completed\n",
      "{'Cmu': [0.0678354184012643], 'C1': [1.3955544676072185], 'C2': [1.459404062259163], 'sigmak': [0.8958030365395189], 'sigmaEps': [1.1198162549828794]}\n",
      "00:41:42 hotlum-login SmartSim[115200] INFO Working in previously created experiment\n",
      "00:41:42 hotlum-login SmartSim[115200] WARNING Unused tag label=32 on line(s): [12]\n",
      "00:41:42 hotlum-login SmartSim[115200] WARNING Unused tag label=32 on line(s): [12]\n",
      "00:41:42 hotlum-login SmartSim[115200] WARNING Unused tag label=32 on line(s): [12]\n",
      "00:41:42 hotlum-login SmartSim[115200] WARNING Unused tag label=32 on line(s): [12]\n",
      "00:41:42 hotlum-login SmartSim[115200] WARNING Unused tag label=32 on line(s): [12]\n",
      "00:41:47 hotlum-login SmartSim[115200] INFO evaluation_0(182383): Running\n",
      "00:41:52 hotlum-login SmartSim[115200] INFO evaluation_0(182383): Running\n",
      "00:41:57 hotlum-login SmartSim[115200] INFO evaluation_0(182383): Running\n",
      "00:42:02 hotlum-login SmartSim[115200] INFO evaluation_0(182383): Running\n",
      "00:42:07 hotlum-login SmartSim[115200] INFO evaluation_0(182383): Running\n",
      "00:42:12 hotlum-login SmartSim[115200] INFO evaluation_0(182383): Running\n",
      "00:42:18 hotlum-login SmartSim[115200] INFO evaluation_0(182383): Running\n",
      "00:42:21 hotlum-login SmartSim[115200] INFO evaluation_0(182383): Completed\n",
      "{'Cmu': [0.07034190850837144], 'C1': [1.4077356590345578], 'C2': [1.646218848635778], 'sigmak': [0.8480493348221813], 'sigmaEps': [1.1410746964435539]}\n",
      "00:42:23 hotlum-login SmartSim[115200] INFO Working in previously created experiment\n",
      "00:42:24 hotlum-login SmartSim[115200] WARNING Unused tag label=32 on line(s): [12]\n",
      "00:42:24 hotlum-login SmartSim[115200] WARNING Unused tag label=32 on line(s): [12]\n",
      "00:42:24 hotlum-login SmartSim[115200] WARNING Unused tag label=32 on line(s): [12]\n",
      "00:42:24 hotlum-login SmartSim[115200] WARNING Unused tag label=32 on line(s): [12]\n",
      "00:42:24 hotlum-login SmartSim[115200] WARNING Unused tag label=32 on line(s): [12]\n",
      "00:42:29 hotlum-login SmartSim[115200] INFO evaluation_0(184798): Running\n",
      "00:42:32 hotlum-login SmartSim[115200] INFO evaluation_0(184798): Completed\n",
      "{'Cmu': [0.07021055417485599], 'C1': [1.4002429571955204], 'C2': [1.4605104332921066], 'sigmak': [0.8924050414797661], 'sigmaEps': [1.138420429800606]}\n",
      "00:42:34 hotlum-login SmartSim[115200] INFO Working in previously created experiment\n",
      "00:42:35 hotlum-login SmartSim[115200] WARNING Unused tag label=32 on line(s): [12]\n",
      "00:42:35 hotlum-login SmartSim[115200] WARNING Unused tag label=32 on line(s): [12]\n",
      "00:42:35 hotlum-login SmartSim[115200] WARNING Unused tag label=32 on line(s): [12]\n",
      "00:42:35 hotlum-login SmartSim[115200] WARNING Unused tag label=32 on line(s): [12]\n",
      "00:42:35 hotlum-login SmartSim[115200] WARNING Unused tag label=32 on line(s): [12]\n",
      "00:42:40 hotlum-login SmartSim[115200] INFO evaluation_0(185712): Running\n",
      "00:42:45 hotlum-login SmartSim[115200] INFO evaluation_0(185712): Running\n",
      "00:42:50 hotlum-login SmartSim[115200] INFO evaluation_0(185712): Running\n",
      "00:42:55 hotlum-login SmartSim[115200] INFO evaluation_0(185712): Running\n",
      "00:43:00 hotlum-login SmartSim[115200] INFO evaluation_0(185712): Running\n",
      "00:43:05 hotlum-login SmartSim[115200] INFO evaluation_0(185712): Running\n",
      "00:43:10 hotlum-login SmartSim[115200] INFO evaluation_0(185712): Running\n",
      "00:43:11 hotlum-login SmartSim[115200] INFO evaluation_0(185712): Completed\n",
      "{'Cmu': [0.06986247455021688], 'C1': [1.4215464431422185], 'C2': [1.488639809746253], 'sigmak': [1.118472739898659], 'sigmaEps': [1.1324689337544036]}\n",
      "00:43:16 hotlum-login SmartSim[115200] INFO Working in previously created experiment\n",
      "00:43:16 hotlum-login SmartSim[115200] WARNING Unused tag label=32 on line(s): [12]\n",
      "00:43:16 hotlum-login SmartSim[115200] WARNING Unused tag label=32 on line(s): [12]\n",
      "00:43:16 hotlum-login SmartSim[115200] WARNING Unused tag label=32 on line(s): [12]\n",
      "00:43:16 hotlum-login SmartSim[115200] WARNING Unused tag label=32 on line(s): [12]\n",
      "00:43:17 hotlum-login SmartSim[115200] WARNING Unused tag label=32 on line(s): [12]\n",
      "00:43:22 hotlum-login SmartSim[115200] INFO evaluation_0(188150): Running\n",
      "00:43:27 hotlum-login SmartSim[115200] INFO evaluation_0(188150): Running\n",
      "00:43:32 hotlum-login SmartSim[115200] INFO evaluation_0(188150): Running\n",
      "00:43:37 hotlum-login SmartSim[115200] INFO evaluation_0(188150): Running\n",
      "00:43:42 hotlum-login SmartSim[115200] INFO evaluation_0(188150): Running\n",
      "00:43:47 hotlum-login SmartSim[115200] INFO evaluation_0(188150): Running\n",
      "00:43:52 hotlum-login SmartSim[115200] INFO evaluation_0(188150): Running\n",
      "00:43:53 hotlum-login SmartSim[115200] INFO evaluation_0(188150): Completed\n",
      "{'Cmu': [0.07466042612761148], 'C1': [1.2055766199887676], 'C2': [2.18866894435555], 'sigmak': [0.8592300156289323], 'sigmaEps': [1.1037751727338587]}\n",
      "00:43:57 hotlum-login SmartSim[115200] INFO Working in previously created experiment\n",
      "00:43:58 hotlum-login SmartSim[115200] WARNING Unused tag label=32 on line(s): [12]\n",
      "00:43:58 hotlum-login SmartSim[115200] WARNING Unused tag label=32 on line(s): [12]\n",
      "00:43:58 hotlum-login SmartSim[115200] WARNING Unused tag label=32 on line(s): [12]\n",
      "00:43:58 hotlum-login SmartSim[115200] WARNING Unused tag label=32 on line(s): [12]\n",
      "00:43:58 hotlum-login SmartSim[115200] WARNING Unused tag label=32 on line(s): [12]\n",
      "00:44:03 hotlum-login SmartSim[115200] INFO evaluation_0(190574): Running\n",
      "00:44:06 hotlum-login SmartSim[115200] INFO evaluation_0(190574): Completed\n",
      "{'Cmu': [0.0749047798222169], 'C1': [1.163186406820317], 'C2': [2.264150793991167], 'sigmak': [0.8137660660443442], 'sigmaEps': [1.0395326526713358]}\n",
      "00:44:08 hotlum-login SmartSim[115200] INFO Working in previously created experiment\n",
      "00:44:09 hotlum-login SmartSim[115200] WARNING Unused tag label=32 on line(s): [12]\n",
      "00:44:09 hotlum-login SmartSim[115200] WARNING Unused tag label=32 on line(s): [12]\n",
      "00:44:09 hotlum-login SmartSim[115200] WARNING Unused tag label=32 on line(s): [12]\n",
      "00:44:09 hotlum-login SmartSim[115200] WARNING Unused tag label=32 on line(s): [12]\n",
      "00:44:09 hotlum-login SmartSim[115200] WARNING Unused tag label=32 on line(s): [12]\n",
      "00:44:14 hotlum-login SmartSim[115200] INFO evaluation_0(191203): Running\n",
      "00:44:17 hotlum-login SmartSim[115200] INFO evaluation_0(191203): Completed\n",
      "{'Cmu': [0.07503283600576742], 'C1': [1.1643009502481336], 'C2': [2.260089728660879], 'sigmak': [0.8113317151242229], 'sigmaEps': [1.0389066615229463]}\n",
      "00:44:20 hotlum-login SmartSim[115200] INFO Working in previously created experiment\n",
      "00:44:20 hotlum-login SmartSim[115200] WARNING Unused tag label=32 on line(s): [12]\n",
      "00:44:20 hotlum-login SmartSim[115200] WARNING Unused tag label=32 on line(s): [12]\n",
      "00:44:20 hotlum-login SmartSim[115200] WARNING Unused tag label=32 on line(s): [12]\n",
      "00:44:20 hotlum-login SmartSim[115200] WARNING Unused tag label=32 on line(s): [12]\n",
      "00:44:20 hotlum-login SmartSim[115200] WARNING Unused tag label=32 on line(s): [12]\n",
      "00:44:25 hotlum-login SmartSim[115200] INFO evaluation_0(192115): Running\n",
      "00:44:28 hotlum-login SmartSim[115200] INFO evaluation_0(192115): Completed\n",
      "{'Cmu': [0.06986289491876922], 'C1': [1.3960420160666112], 'C2': [2.0520154919822953], 'sigmak': [1.0350002531503284], 'sigmaEps': [1.1325027054757622]}\n",
      "00:44:31 hotlum-login SmartSim[115200] INFO Working in previously created experiment\n",
      "00:44:31 hotlum-login SmartSim[115200] WARNING Unused tag label=32 on line(s): [12]\n",
      "00:44:31 hotlum-login SmartSim[115200] WARNING Unused tag label=32 on line(s): [12]\n",
      "00:44:31 hotlum-login SmartSim[115200] WARNING Unused tag label=32 on line(s): [12]\n",
      "00:44:31 hotlum-login SmartSim[115200] WARNING Unused tag label=32 on line(s): [12]\n",
      "00:44:31 hotlum-login SmartSim[115200] WARNING Unused tag label=32 on line(s): [12]\n",
      "00:44:37 hotlum-login SmartSim[115200] INFO evaluation_0(192740): Running\n",
      "00:44:40 hotlum-login SmartSim[115200] INFO evaluation_0(192740): Completed\n"
     ]
    }
   ],
   "source": [
    "res = skopt.gp_minimize(evaluate_function,  # the function to minimize\n",
    "                  bounds,      # the bounds on each dimension of x\n",
    "                  acq_func=\"EI\",      # the acquisition function\n",
    "                  n_calls=15,         # the number of evaluations of f\n",
    "                  n_random_starts=5,  # the number of random initialization points\n",
    "                  noise=0.1**2,       # the noise level (optional)\n",
    "                  random_state=1234)  # the random seed"
   ]
  },
  {
   "cell_type": "code",
   "execution_count": 27,
   "metadata": {},
   "outputs": [
    {
     "name": "stdout",
     "output_type": "stream",
     "text": [
      "[0.0749047798222169, 1.163186406820317, 2.264150793991167, 0.8137660660443442, 1.0395326526713358]\n"
     ]
    }
   ],
   "source": [
    "print(res.x)"
   ]
  },
  {
   "cell_type": "code",
   "execution_count": 28,
   "metadata": {},
   "outputs": [
    {
     "data": {
      "text/plain": [
       "<Axes: title={'center': 'Convergence plot'}, xlabel='Number of calls $n$', ylabel='$\\\\min f(x)$ after $n$ calls'>"
      ]
     },
     "execution_count": 28,
     "metadata": {},
     "output_type": "execute_result"
    },
    {
     "data": {
      "image/png": "[encoded data removed]",
      "text/plain": [
       "<Figure size 640x480 with 1 Axes>"
      ]
     },
     "metadata": {},
     "output_type": "display_data"
    }
   ],
   "source": [
    "skopt.plots.plot_convergence(res)"
   ]
  },
  {
   "cell_type": "code",
   "execution_count": 29,
   "metadata": {},
   "outputs": [],
   "source": [
    "param_names = [\n",
    "        'Cmu',\n",
    "        'C1',\n",
    "        'C2',\n",
    "        'sigmak',\n",
    "        'sigmaEps'\n",
    "    ]"
   ]
  },
  {
   "cell_type": "code",
   "execution_count": 41,
   "metadata": {},
   "outputs": [
    {
     "name": "stdout",
     "output_type": "stream",
     "text": [
      "Parameter     \tDefault\tOptimal\n",
      "Cmu:     \t0.09\t0.0749\n",
      "C1:     \t1.44\t1.1632\n",
      "C2:     \t1.92\t2.2642\n",
      "sigmak:     \t1.0\t0.8138\n",
      "sigmaEps:     \t1.3\t1.0395\n"
     ]
    }
   ],
   "source": [
    "print('Parameter     \\tDefault\\tOptimal')\n",
    "for i in range(len(param_names)):\n",
    "    print(f'{param_names[i]}:     \\t{default_values[i]}\\t{res.x[i]:.4f}')"
   ]
  },
  {
   "cell_type": "code",
   "execution_count": null,
   "metadata": {},
   "outputs": [],
   "source": []
  }
 ],
 "metadata": {
  "kernelspec": {
   "display_name": "Python 3 (ipykernel)",
   "language": "python",
   "name": "python3"
  },
  "language_info": {
   "codemirror_mode": {
    "name": "ipython",
    "version": 3
   },
   "file_extension": ".py",
   "mimetype": "text/x-python",
   "name": "python",
   "nbconvert_exporter": "python",
   "pygments_lexer": "ipython3",
   "version": "3.10.13"
  }
 },
 "nbformat": 4,
 "nbformat_minor": 4
}
